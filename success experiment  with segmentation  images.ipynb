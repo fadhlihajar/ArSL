{
 "cells": [
  {
   "cell_type": "code",
   "execution_count": 1,
   "metadata": {},
   "outputs": [
    {
     "name": "stderr",
     "output_type": "stream",
     "text": [
      "Using TensorFlow backend.\n"
     ]
    },
    {
     "name": "stdout",
     "output_type": "stream",
     "text": [
      "['train.pdf', '.DS_Store', 'test', 'train2', 'train3', 'train']\n"
     ]
    }
   ],
   "source": [
    "import numpy as np # linear algebra\n",
    "import pandas as pd # data processing, CSV file I/O (e.g. pd.read_csv)\n",
    "import os\n",
    "import cv2\n",
    "import matplotlib.pyplot as plt\n",
    "from sklearn.model_selection import train_test_split\n",
    "import keras\n",
    "from keras.layers import Conv2D, MaxPool2D, Flatten, Dense, Dropout, BatchNormalization\n",
    "from keras.preprocessing.image import ImageDataGenerator\n",
    "from keras.models import Sequential\n",
    "from keras import regularizers\n",
    "print(os.listdir(\"/Users/fadhlihajar/Desktop/ArSLDatabase\"))\n",
    "\n",
    "# Any results you write to the current directory are saved as output."
   ]
  },
  {
   "cell_type": "code",
   "execution_count": 75,
   "metadata": {},
   "outputs": [
    {
     "name": "stdout",
     "output_type": "stream",
     "text": [
      "/Users/fadhlihajar/Desktop/ArSLDatabase/train2\n"
     ]
    }
   ],
   "source": [
    "print(train_dir)"
   ]
  },
  {
   "cell_type": "code",
   "execution_count": 2,
   "metadata": {},
   "outputs": [],
   "source": [
    "train_dir = '/Users/fadhlihajar/Desktop/ArSLDatabase/train3'\n",
    "test_dir = '/Users/fadhlihajar/Desktop/ArSLDatabase/test'"
   ]
  },
  {
   "cell_type": "code",
   "execution_count": 5,
   "metadata": {},
   "outputs": [
    {
     "name": "stdout",
     "output_type": "stream",
     "text": [
      "unique_labels =  ['bb', 'waw', 'al', 'nun', 'aleff']\n"
     ]
    }
   ],
   "source": [
    "def load_unique():\n",
    "    size_img = 64,64\n",
    "    images_for_plot = []\n",
    "    labels_for_plot = []\n",
    "    for folder in os.listdir(train_dir):\n",
    "        for file in os.listdir(train_dir + '/' + folder):\n",
    "            filepath = train_dir + '/' + folder + '/' + file\n",
    "            image = cv2.imread(filepath)\n",
    "            final_img = cv2.resize(image, size_img)\n",
    "            final_img = cv2.cvtColor(final_img, cv2.COLOR_BGR2RGB)\n",
    "            images_for_plot.append(final_img)\n",
    "            labels_for_plot.append(folder)\n",
    "            break\n",
    "    return images_for_plot, labels_for_plot\n",
    "\n",
    "images_for_plot, labels_for_plot = load_unique()\n",
    "print(\"unique_labels = \", labels_for_plot)"
   ]
  },
  {
   "cell_type": "code",
   "execution_count": 6,
   "metadata": {},
   "outputs": [],
   "source": [
    "labels_dict = {'bb':0,'waw':1,'al':2,'nun':3,'aleff':4}\n",
    "\n",
    "def load_data():\n",
    "    images = []\n",
    "    labels = []\n",
    "    size = 64,64\n",
    "    print(\"LOADING DATA FROM : \",end = \"\")\n",
    "    for folder in os.listdir(train_dir):\n",
    "        print(folder, end = ' | ')\n",
    "        for image in os.listdir(train_dir + \"/\" + folder):\n",
    "            temp_img = cv2.imread(train_dir + '/' + folder + '/' + image)\n",
    "            temp_img = cv2.resize(temp_img, size)\n",
    "            images.append(temp_img)\n",
    "            if folder == 'bb':\n",
    "                labels.append(labels_dict['bb'])\n",
    "            elif folder == 'waw':\n",
    "                labels.append(labels_dict['waw'])\n",
    "            elif folder == 'al':\n",
    "                labels.append(labels_dict['al'])\n",
    "            elif folder == 'nun':\n",
    "                labels.append(labels_dict['nun'])\n",
    "            elif folder == 'aleff':\n",
    "                labels.append(labels_dict['aleff'])\n",
    "    \n",
    "    images = np.array(images)\n",
    "    images = images.astype('float32')/255.0\n",
    "    \n",
    "    labels = keras.utils.to_categorical(labels)   #one-hot encoding\n",
    "    \n",
    "    X_train, X_test, Y_train, Y_test = train_test_split(images, labels, test_size = 0.1)\n",
    "    \n",
    "    print()\n",
    "    print('Loaded', len(X_train),'images for training,','Train data shape =',X_train.shape)\n",
    "    print('Loaded', len(X_test),'images for testing','Test data shape =',X_test.shape)\n",
    "    \n",
    "    return X_train, X_test, Y_train, Y_test"
   ]
  },
  {
   "cell_type": "code",
   "execution_count": 7,
   "metadata": {},
   "outputs": [
    {
     "name": "stdout",
     "output_type": "stream",
     "text": [
      "LOADING DATA FROM : bb | waw | al | nun | aleff | \n",
      "Loaded 6043 images for training, Train data shape = (6043, 64, 64, 3)\n",
      "Loaded 672 images for testing Test data shape = (672, 64, 64, 3)\n"
     ]
    }
   ],
   "source": [
    "X_train, X_test, Y_train, Y_test = load_data()"
   ]
  },
  {
   "cell_type": "code",
   "execution_count": 8,
   "metadata": {},
   "outputs": [],
   "source": [
    "def build_model():\n",
    "    \n",
    "    model = Sequential()\n",
    "    \n",
    "    model.add(Conv2D(64, kernel_size = 3, padding = 'same', activation = 'relu', input_shape = (64,64,3)))\n",
    "    model.add(Conv2D(32, kernel_size = 3, padding = 'same', strides = 2, activation = 'relu'))\n",
    "    model.add(Dropout(0.5))\n",
    "    \n",
    "    model.add(Conv2D(32, kernel_size = 3, padding = 'same', activation = 'relu'))\n",
    "    model.add(Conv2D(64, kernel_size = 3, padding = 'same', strides = 2, activation = 'relu'))\n",
    "    model.add(Dropout(0.5))\n",
    "    \n",
    "    model.add(Conv2D(128, kernel_size = 3, padding = 'same', activation = 'relu'))\n",
    "    model.add(Conv2D(256, kernel_size = 3, padding = 'same', strides = 2 , activation = 'relu'))\n",
    "    model.add(MaxPool2D(3))\n",
    "    \n",
    "    model.add(BatchNormalization())\n",
    "    \n",
    "    model.add(Flatten())\n",
    "    model.add(Dropout(0.5))\n",
    "    model.add(Dense(512, activation = 'relu'))\n",
    "    model.add(Dense(5, activation = 'softmax'))\n",
    "    \n",
    "    model.compile(optimizer = 'adam', loss = keras.losses.categorical_crossentropy, metrics = [\"accuracy\"])\n",
    "    \n",
    "    print(\"MODEL CREATED\")\n",
    "    model.summary()\n",
    "    \n",
    "    return model"
   ]
  },
  {
   "cell_type": "code",
   "execution_count": 9,
   "metadata": {},
   "outputs": [],
   "source": [
    "def fit_model():\n",
    "    history = model.fit(X_train, Y_train, batch_size = 64, epochs = 5, validation_split = 0.1)\n",
    "    return history"
   ]
  },
  {
   "cell_type": "code",
   "execution_count": 11,
   "metadata": {},
   "outputs": [
    {
     "name": "stdout",
     "output_type": "stream",
     "text": [
      "MODEL CREATED\n",
      "Model: \"sequential_2\"\n",
      "_________________________________________________________________\n",
      "Layer (type)                 Output Shape              Param #   \n",
      "=================================================================\n",
      "conv2d_7 (Conv2D)            (None, 64, 64, 64)        1792      \n",
      "_________________________________________________________________\n",
      "conv2d_8 (Conv2D)            (None, 32, 32, 32)        18464     \n",
      "_________________________________________________________________\n",
      "dropout_4 (Dropout)          (None, 32, 32, 32)        0         \n",
      "_________________________________________________________________\n",
      "conv2d_9 (Conv2D)            (None, 32, 32, 32)        9248      \n",
      "_________________________________________________________________\n",
      "conv2d_10 (Conv2D)           (None, 16, 16, 64)        18496     \n",
      "_________________________________________________________________\n",
      "dropout_5 (Dropout)          (None, 16, 16, 64)        0         \n",
      "_________________________________________________________________\n",
      "conv2d_11 (Conv2D)           (None, 16, 16, 128)       73856     \n",
      "_________________________________________________________________\n",
      "conv2d_12 (Conv2D)           (None, 8, 8, 256)         295168    \n",
      "_________________________________________________________________\n",
      "max_pooling2d_2 (MaxPooling2 (None, 2, 2, 256)         0         \n",
      "_________________________________________________________________\n",
      "batch_normalization_2 (Batch (None, 2, 2, 256)         1024      \n",
      "_________________________________________________________________\n",
      "flatten_2 (Flatten)          (None, 1024)              0         \n",
      "_________________________________________________________________\n",
      "dropout_6 (Dropout)          (None, 1024)              0         \n",
      "_________________________________________________________________\n",
      "dense_3 (Dense)              (None, 512)               524800    \n",
      "_________________________________________________________________\n",
      "dense_4 (Dense)              (None, 5)                 2565      \n",
      "=================================================================\n",
      "Total params: 945,413\n",
      "Trainable params: 944,901\n",
      "Non-trainable params: 512\n",
      "_________________________________________________________________\n"
     ]
    }
   ],
   "source": [
    "model = build_model()"
   ]
  },
  {
   "cell_type": "code",
   "execution_count": 12,
   "metadata": {},
   "outputs": [
    {
     "name": "stdout",
     "output_type": "stream",
     "text": [
      "WARNING:tensorflow:From /opt/anaconda3/lib/python3.7/site-packages/keras/backend/tensorflow_backend.py:422: The name tf.global_variables is deprecated. Please use tf.compat.v1.global_variables instead.\n",
      "\n"
     ]
    },
    {
     "name": "stderr",
     "output_type": "stream",
     "text": [
      "WARNING:tensorflow:From /opt/anaconda3/lib/python3.7/site-packages/keras/backend/tensorflow_backend.py:422: The name tf.global_variables is deprecated. Please use tf.compat.v1.global_variables instead.\n",
      "\n"
     ]
    },
    {
     "name": "stdout",
     "output_type": "stream",
     "text": [
      "Train on 5438 samples, validate on 605 samples\n",
      "Epoch 1/5\n",
      "5438/5438 [==============================] - 39s 7ms/step - loss: 1.1595 - accuracy: 0.5143 - val_loss: 1.4696 - val_accuracy: 0.5884\n",
      "Epoch 2/5\n",
      "5438/5438 [==============================] - 35s 7ms/step - loss: 0.5909 - accuracy: 0.7707 - val_loss: 1.3134 - val_accuracy: 0.7719\n",
      "Epoch 3/5\n",
      "5438/5438 [==============================] - 36s 7ms/step - loss: 0.3918 - accuracy: 0.8580 - val_loss: 0.7953 - val_accuracy: 0.8793\n",
      "Epoch 4/5\n",
      "5438/5438 [==============================] - 36s 7ms/step - loss: 0.3281 - accuracy: 0.8841 - val_loss: 0.4214 - val_accuracy: 0.9190\n",
      "Epoch 5/5\n",
      "5438/5438 [==============================] - 36s 7ms/step - loss: 0.2281 - accuracy: 0.9152 - val_loss: 0.2818 - val_accuracy: 0.9174\n"
     ]
    }
   ],
   "source": [
    "model_history = fit_model()"
   ]
  },
  {
   "cell_type": "code",
   "execution_count": 15,
   "metadata": {},
   "outputs": [
    {
     "name": "stdout",
     "output_type": "stream",
     "text": [
      "Final Accuracy: 91.52%\n",
      "Validation Set Accuracy: 91.52%\n"
     ]
    }
   ],
   "source": [
    "if model_history:\n",
    "    print('Final Accuracy: {:.2f}%'.format(model_history.history['accuracy'][4] * 100))\n",
    "    print('Validation Set Accuracy: {:.2f}%'.format(model_history.history['accuracy'][4] * 100))"
   ]
  },
  {
   "cell_type": "code",
   "execution_count": null,
   "metadata": {},
   "outputs": [],
   "source": []
  }
 ],
 "metadata": {
  "kernelspec": {
   "display_name": "Python 3",
   "language": "python",
   "name": "python3"
  },
  "language_info": {
   "codemirror_mode": {
    "name": "ipython",
    "version": 3
   },
   "file_extension": ".py",
   "mimetype": "text/x-python",
   "name": "python",
   "nbconvert_exporter": "python",
   "pygments_lexer": "ipython3",
   "version": "3.7.4"
  }
 },
 "nbformat": 4,
 "nbformat_minor": 4
}
